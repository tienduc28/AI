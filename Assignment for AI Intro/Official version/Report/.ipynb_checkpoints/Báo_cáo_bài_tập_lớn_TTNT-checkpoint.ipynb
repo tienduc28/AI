{
 "cells": [
  {
   "cell_type": "markdown",
   "metadata": {
    "id": "I9y9rXMHAvz7"
   },
   "source": [
    "<h2 align=\"center\">ĐẠI HỌC BÁCH KHOA HÀ NỘI</h2>\n",
    "<h2 align=\"center\">TRƯỜNG CÔNG NGHỆ THÔNG TIN VÀ TRUYỀN THÔNG</h2>\n",
    "<h2 style=\"text-align:center;margin-top:20;\">Báo cáo Bài tập lớn</h2>\n",
    "<h2 align=\"center\">Học phần Nhập môn Trí tuệ nhân tạo - IT3160</h2>\n",
    "<h3 align=\"center\">Nhóm 4</h3>\n",
    "<h3 align=\"center\">Đề tài: Xây dựng chương trình giải mê cung</h3>\n",
    "\n",
    "<h3>1. Thành viên nhóm</h3>\n",
    "    <li>Nguyễn Đức Thái An – 20204506</li>\n",
    "    <li>Hoàng Kỳ Anh – 20210068</li>\n",
    "    <li>Nguyễn Hữu Đức – 20215353</li>\n",
    "    <li>Trần Tiến Đức – 20204643</li>"
   ]
  },
  {
   "cell_type": "markdown",
   "metadata": {
    "id": "NuhfXHPHoJRl"
   },
   "source": [
    "<h3>2. Giới thiệu và mô tả bài toán</h3>\n",
    "<p>Tìm đường đi trong mê cung là vấn đề quen thuộc khi xem xét các bài toán giải quyết vấn đề bằng tìm kiếm trong Trí tuệ nhân tạo. Mục tiêu của bài toán là tìm đường đi từ điểm bắt đầu đén điểm kết thúc của mê cung có các rào cản và ràng buộc cho trước</p>\n",
    "<p>Mê cung được mô tả qua những đặc điểm sau:\n",
    "    <li>Vị trí bắt đầu: điểm xuất phát của hành trình</li>\n",
    "    <li>Vị trí kết thúc: đích đến cần tìm đường đi từ vị trí bắt đầu</li>\n",
    "    <li>Tường: các vị trí không thể đi qua, không thể nằm trên đường đi cần tìm</li>\n",
    "    <li>Đường đi: các vị trí có thể đi qua</li>\n",
    "</p>\n",
    "<p>Mê cung được biểu diễn dưới dạng một lưới có kích thước (m x n) ô vuông, nhiệm vụ của chương trình là tìm đường đi từ vị trí bắt đầu đến vị trí kết thúc của mê cung.</p>\n",
    "<p>Mục tiêu của bài toán: Tìm được đường đi (nếu có) từ vị trí bắt đầu đến vị trí xuất phát của mê cung, hiển thị quá trình và kết quả tìm kiếm một cách trực quan; nắm rõ một số thuật toán tìm kiếm cơ bản của Trí tuệ nhân tạo</p>\n",
    "\n"
   ]
  },
  {
   "cell_type": "markdown",
   "metadata": {},
   "source": [
    "<h3>3. Phương pháp áp dụng</h3>\n",
    "<h3>3.1. Các thuật toán được sử dụng trong chương trình:</h3>\n",
    "<p>Chương trình sử dụng 3 thuật toán giải quyết vấn đề bằng tìm kiếm. Đây là các thuật toán cơ bản trong Trí tuệ nhân tạo ở mức độ nhập môn:\n",
    "    <li>BFS (Breadth-first search): Tìm kiếm theo chiều rộng, xem xét tất cả các ô có cùng chiều sâu k, sau đó xem xét các ô có chiều sâu k+1 nếu chưa tìm được lời giải</li>\n",
    "    <li>DFS (Depth-first search): Tìm kiếm theo chiều sâu, đi sâu nhất có thể vào một nhánh của cây tìm kiếm trước khi chuyển sang nhánh khác</li>\n",
    "    <li>A* (A-star): Tìm kiếm với tri thức bổ sung với việc sử dụng các hàm đánh giá để dự đoán hướng đi tốt nhất</li>\n",
    "<p>Đối với không gian trạng thái hữu hạn của bài toán tìm đường đi trong mê cung, cả 3 thuật toán trên đều là hoàn chỉnh, đảm bảo việc tìm được đường đi (nếu có) thoả mãn yêu cầu của bài toán.</p>\n",
    "</p>\n",
    "<h3>3.2. Các công cụ khác:</h3>\n",
    "    <li>Turtle Graphic: là một công cụ đồ hoạ đơn giản, dễ tiếp cận, được sử dụng để biểu diễn mê cung, thể hiện việc tìm đường đi theo thuật toán một cách trực quan.</li>\n",
    "    <li>PySimpleGUI: là một công cụ xây dựng giao diện người dùng, được sử dụng để tạo môi trường tương tác giữa người dùng với chương trình trong quá trình thiết lập mê cung.</li>"
   ]
  },
  {
   "cell_type": "markdown",
   "metadata": {},
   "source": [
    "<h3>4. Thực hiện đề tài</h4>\n",
    "<p>Các thư viện cần import để sử dụng trong chương trình:</p>"
   ]
  },
  {
   "cell_type": "code",
   "execution_count": 1,
   "metadata": {
    "ExecuteTime": {
     "end_time": "2023-12-13T02:56:22.672514300Z",
     "start_time": "2023-12-13T02:56:22.541115Z"
    }
   },
   "outputs": [],
   "source": [
    "import turtle\n",
    "import time\n",
    "import sys\n",
    "from collections import deque\n",
    "import PySimpleGUI as sg\n",
    "\n",
    "# Biến toàn cục lưu giữ thông tin mê cung\n",
    "global input_grid\n",
    "# Biến toàn cục lưu giữ vị trí bắt đầu, kết thúc\n",
    "global start_x, start_y, end_x, end_y"
   ]
  },
  {
   "cell_type": "markdown",
   "metadata": {},
   "source": [
    "<h3>4.1. Thiết kế giao diện tạo mê cung với PySimpleGUI</h3>\n",
    "<p>Khởi động chương trình, người dùng được yêu cầu chọn cách thức setup mê cung: Sử dụng file có sẵn hoặc chọn thủ công:</p>\n",
    "<center><img src=\"https://i.postimg.cc/m2Np6j0Z/1.png\"/></center>\n",
    "\n",
    "<p>Đối với chức năng Import File: File được nhập vào có dạng *.txt, quy ước các kí hiệu như sau: ' ' (đường đi), '+' (tường), 's' (vị trí bắt đầu), 'e' (vị trí kết thúc)</p>\n",
    "<center><img src=\"https://i.postimg.cc/mZ957BjH/2.png\"/></center>\n",
    "\n",
    "<p>Hình ảnh minh hoạ 1 file .txt hợp lệ:\n",
    "<center><img src=\"https://i.postimg.cc/59ndjHhn/10.png\"/></center>\n",
    "\n",
    "<p>Đối với chức năng Use GUI: Người dùng được tuỳ chỉnh số hàng, số cột, vị trí tường, đường đi, điểm bắt đầu và kết thúc trên sơ đồ trực quan:</p>\n",
    "<center><img src=\"https://i.postimg.cc/xCJFx2SB/4.png\"/></center>\n",
    "<center><img src=\"https://i.postimg.cc/3x8fMpTX/6.png\"/></center>\n",
    "<p>Nếu chưa thiết lập vị trí bắt đầu hoặc vị trí kết thúc, người dùng sẽ nhận được cảnh báo.</p>\n",
    "\n",
    "<p>Sau khi được thiết lập xong, mê cung hoàn chỉnh hiển thị lên màn hình:</p>\n",
    "<center><img src=\"https://i.postimg.cc/28fXwM9X/7.png\"/></center>"
   ]
  },
  {
   "cell_type": "code",
   "execution_count": 2,
   "metadata": {
    "ExecuteTime": {
     "end_time": "2023-12-13T02:56:22.698297400Z",
     "start_time": "2023-12-13T02:56:22.658890Z"
    }
   },
   "outputs": [],
   "source": [
    "# Hàm setup mê cung bằng giao diện trực quan\n",
    "def create_maze_with_GUI():\n",
    "    layout = [[sg.Text('Number of rows:'), sg.Input(size=(5, 1), key='-ROWS-')],\n",
    "              [sg.Text('Number of columns:'), sg.Input(size=(5, 1), key='-COLS-')],\n",
    "              [sg.Button('Submit')]]\n",
    "\n",
    "    window = sg.Window('Maze Setup', layout)\n",
    "\n",
    "    while True:\n",
    "        event, values = window.read()\n",
    "        if event == sg.WINDOW_CLOSED or event == 'Submit':\n",
    "            break\n",
    "\n",
    "    window.close()\n",
    "\n",
    "    m = int(values['-ROWS-'])\n",
    "    n = int(values['-COLS-'])\n",
    "\n",
    "    layout = [[sg.Button('', size=(2, 1), key=(i, j), pad=(0, 0), button_color=('white', 'white')) for j in range(n)] for i in range(m)]\n",
    "    layout.append([sg.Button('Set Start'), sg.Button('Set End'), sg.Button('Set Wall')])\n",
    "    layout.append([sg.Button('Submit')])\n",
    "\n",
    "    window = sg.Window('Maze Setup', layout)\n",
    "\n",
    "    # 3 biến để lưu giữ tuỳ chọn nút hiện tại\n",
    "    start_set = False\n",
    "    end_set = False\n",
    "    wall_set = True\n",
    "    start = end = None\n",
    "\n",
    "    start_existed = 0\n",
    "    end_existed = 0\n",
    "\n",
    "    while True:\n",
    "        event, values = window.read()\n",
    "        if event == sg.WINDOW_CLOSED:\n",
    "            break\n",
    "\n",
    "        # Quy ước: ô màu đen là tường, màu trắng là đường đi, màu đỏ là vị trí bắt đầu, màu tím là vị trí kết thúc\n",
    "        if type(event) == tuple:\n",
    "            button = window[event]\n",
    "            if wall_set:\n",
    "                if button.ButtonColor[1] == 'white':\n",
    "                    button.update(button_color=('white', 'black'))\n",
    "                elif button.ButtonColor[1] == 'black':\n",
    "                    button.update(button_color=('white', 'white'))\n",
    "            elif start_set:\n",
    "                if start:\n",
    "                    start.update(button_color=('white', 'white'))\n",
    "                button.update(button_color=('white', 'red'))\n",
    "                start = button\n",
    "            elif end_set:\n",
    "                if end:\n",
    "                    end.update(button_color=('white', 'white'))\n",
    "                button.update(button_color=('white', 'purple'))\n",
    "                end = button\n",
    "        elif event == 'Set Start':\n",
    "            start_set = True\n",
    "            end_set = False\n",
    "            wall_set = False\n",
    "        elif event == 'Set End':\n",
    "            end_set = True\n",
    "            start_set = False\n",
    "            wall_set = False\n",
    "        elif event == 'Set Wall':\n",
    "            wall_set = True\n",
    "            start_set = False\n",
    "            end_set = False\n",
    "        elif event == 'Submit':\n",
    "            global input_grid\n",
    "            input_grid = []\n",
    "            tmp = \"+\" * (n + 2)\n",
    "            input_grid.append(tmp)\n",
    "            for i in range(m):\n",
    "                row = '+'\n",
    "                for j in range(n):\n",
    "                    button = window[(i, j)]\n",
    "                    if button.ButtonColor[1] == 'black':\n",
    "                        row += '+'\n",
    "                    elif button.ButtonColor[1] == 'white':\n",
    "                        row += ' '\n",
    "                    elif button.ButtonColor[1] == 'red':\n",
    "                        row += 's'\n",
    "                        start_existed = 1\n",
    "                    elif button.ButtonColor[1] == 'purple':\n",
    "                        row += 'e'\n",
    "                        end_existed = 1\n",
    "                row += '+'\n",
    "                input_grid.append(row)\n",
    "            input_grid.append(tmp)\n",
    "\n",
    "            if start_existed == 0:\n",
    "                layout1 = [[sg.Text('Start point not set!')],\n",
    "                            [sg.Button('OK')]\n",
    "                            ]\n",
    "                window1 = sg.Window('Warning', layout1)\n",
    "                event1, values1 = window1.read()\n",
    "                if event1 == 'OK':\n",
    "                    window1.close()\n",
    "\n",
    "            if end_existed == 0:\n",
    "                layout1 = [[sg.Text('End point not set!')],\n",
    "                            [sg.Button('OK')]\n",
    "                            ]\n",
    "                window1 = sg.Window('Warning', layout1)\n",
    "                event1, values1 = window1.read()\n",
    "                if event1 == 'OK':\n",
    "                    window1.close()\n",
    "            if start_existed == 1 and end_existed == 1:\n",
    "                break\n",
    "\n",
    "    window.close()"
   ]
  },
  {
   "cell_type": "code",
   "execution_count": 3,
   "metadata": {
    "ExecuteTime": {
     "end_time": "2023-12-13T02:56:22.772625500Z",
     "start_time": "2023-12-13T02:56:22.679515800Z"
    }
   },
   "outputs": [],
   "source": [
    "# Hàm cho phép người dùng chọn cách thức setup mê cung\n",
    "def method_setup():\n",
    "    layout = [[sg.Text('Select how you want to create maze: ')],\n",
    "              [sg.Button('Import File'), sg.Button('Use GUI')]\n",
    "              ]\n",
    "    window = sg.Window('Welcome', layout)\n",
    "    while True:\n",
    "        event, values = window.read()\n",
    "        if event == sg.WINDOW_CLOSED:\n",
    "            break\n",
    "        if event == 'Use GUI':\n",
    "            window.close()\n",
    "            create_maze_with_GUI()\n",
    "        elif event == 'Import File':\n",
    "            import_layout = [[sg.Text('Choose file to import:')],\n",
    "                             [sg.Input(), sg.FileBrowse()],\n",
    "                             [sg.OK()]\n",
    "                             ]\n",
    "            window1 = sg.Window('Import File', import_layout)\n",
    "            event1, values1 = window1.read()\n",
    "            if event1 == 'OK':\n",
    "                global input_grid\n",
    "                filename = values1[0]\n",
    "                with open(filename, 'r') as f:\n",
    "                    input_grid = []\n",
    "                    for line in f:\n",
    "                        row = line.strip()\n",
    "                        input_grid.append(row)\n",
    "            window1.close()\n",
    "            window.close()"
   ]
  },
  {
   "cell_type": "markdown",
   "metadata": {},
   "source": [
    "<p>Tại đây, người dùng có thể chọn thuật toán để giải mê cung:</p>\n",
    "<center><img src=\"https://i.postimg.cc/PqFRQq0m/8.png\"/></center>\n",
    "\n",
    "<p>Chương trình sẽ tìm đường đi từ vị trị bắt đầu đến vị trí kết thúc bằng thuật toán đã chọn (nếu có)</p>\n",
    "<center><table>\n",
    "    <tr>\n",
    "        <td> <img src=\"https://i.postimg.cc/mgmNVY7q/bfs.png\" alt=\"Drawing\" style=\"width: 300px;\"/> </td>\n",
    "        <td> <img src=\"https://i.postimg.cc/KY47W1NY/dfs.png\" alt=\"Drawing\" style=\"width: 300px;\"/> </td>\n",
    "        <td> <img src=\"https://i.postimg.cc/ht2yKjDH/9.png\" alt=\"Drawing\" style=\"width: 300px;\"/> </td>\n",
    "    </tr>\n",
    "</table></center>\n",
    "<p>Chương trình sẽ đưa ra một thông báo nếu không có đường đi nào thoả mãn yêu cầu</p>"
   ]
  },
  {
   "cell_type": "code",
   "execution_count": 4,
   "metadata": {
    "ExecuteTime": {
     "end_time": "2023-12-13T02:56:22.790629400Z",
     "start_time": "2023-12-13T02:56:22.701297200Z"
    }
   },
   "outputs": [],
   "source": [
    "def select_algorithm():\n",
    "    layout = [[sg.Text('Choose the algorithm you want to solve this maze with:')],\n",
    "              [sg.Button('BFS'), sg.Button('DFS'), sg.Button('A*')]\n",
    "              ]\n",
    "\n",
    "    window = sg.Window('Select Algorithm', layout)\n",
    "\n",
    "    while True:\n",
    "        event, values = window.read()\n",
    "        if event == sg.WINDOW_CLOSED:\n",
    "            break\n",
    "        if event == 'BFS':\n",
    "            window.close()\n",
    "            bfs(start_x, start_y)\n",
    "        elif event == 'DFS':\n",
    "            window.close()\n",
    "            dfs(start_x, start_y)\n",
    "        elif event == 'A*':\n",
    "            window.close()\n",
    "            aStar(start_x, start_y)"
   ]
  },
  {
   "cell_type": "markdown",
   "metadata": {},
   "source": [
    "<h3>4.2. Xây dựng đồ hoạ mê cung bằng Turtle Graphic</h3>\n",
    "<p>Khởi tạo màn hình Turtle</p>"
   ]
  },
  {
   "cell_type": "code",
   "execution_count": 5,
   "metadata": {
    "ExecuteTime": {
     "end_time": "2023-12-13T02:56:23.141870500Z",
     "start_time": "2023-12-13T02:56:22.707611700Z"
    }
   },
   "outputs": [],
   "source": [
    "wn = turtle.Screen()\n",
    "wn.bgcolor(\"black\")\n",
    "wn.title(\"Maze Solving Program\")\n",
    "wn.setup(10, 10)"
   ]
  },
  {
   "cell_type": "markdown",
   "metadata": {},
   "source": [
    "<p>Mê cung được tạo bởi các ô vuông kích thước 24px x 24px, mỗi ô biểu diễn bởi toạ độ (x,y), có màu sắc khác nhau. Cụ thể:\n",
    "    <li>Màu trắng: tường</li>\n",
    "    <li>Màu đỏ: vị trí bắt đầu</li>\n",
    "    <li>Màu tím: vị trí kết thúc</li>\n",
    "    <li>Màu xanh lá cây: các nút đã xét</li>\n",
    "    <li>Màu xanh dương: các nút đang nằm trong frontier/open_set</li>\n",
    "    <li>Màu vàng: đường đi cần tìm</li>\n",
    "</p>"
   ]
  },
  {
   "cell_type": "code",
   "execution_count": 6,
   "metadata": {
    "ExecuteTime": {
     "end_time": "2023-12-13T02:56:23.143870600Z",
     "start_time": "2023-12-13T02:56:22.991205900Z"
    }
   },
   "outputs": [],
   "source": [
    "class Maze(turtle.Turtle):\n",
    "    def __init__(self):\n",
    "        turtle.Turtle.__init__(self)\n",
    "        self.shape(\"square\")\n",
    "        self.color(\"white\")\n",
    "        self.penup()\n",
    "        self.speed(0)\n",
    "\n",
    "\n",
    "class Green(turtle.Turtle):\n",
    "    def __init__(self):\n",
    "        turtle.Turtle.__init__(self)\n",
    "        self.shape(\"square\")\n",
    "        self.color(\"green\")\n",
    "        self.penup()\n",
    "        self.speed(0)\n",
    "\n",
    "\n",
    "class Blue(turtle.Turtle):\n",
    "    def __init__(self):\n",
    "        turtle.Turtle.__init__(self)\n",
    "        self.shape(\"square\")\n",
    "        self.color(\"blue\")\n",
    "        self.penup()\n",
    "        self.speed(0)\n",
    "\n",
    "\n",
    "# this is the class for the yellow or turtle\n",
    "class Red(turtle.Turtle):\n",
    "    def __init__(self):\n",
    "        turtle.Turtle.__init__(self)\n",
    "        self.shape(\"square\")\n",
    "        self.color(\"red\")\n",
    "        self.penup()\n",
    "        self.speed(0)\n",
    "\n",
    "\n",
    "class Yellow(turtle.Turtle):\n",
    "    def __init__(self):\n",
    "        turtle.Turtle.__init__(self)\n",
    "        self.shape(\"square\")\n",
    "        self.color(\"yellow\")\n",
    "        self.penup()\n",
    "        self.speed(0)\n",
    "\n",
    "\n",
    "class Black(turtle.Turtle):\n",
    "    def __init__(self):\n",
    "        turtle.Turtle.__init__(self)\n",
    "        self.shape(\"square\")\n",
    "        self.color(\"black\")\n",
    "        self.penup()\n",
    "        self.speed(0)"
   ]
  },
  {
   "cell_type": "markdown",
   "metadata": {},
   "source": [
    "<p>Dựa vào quy ước đánh dấu các ô đã được đề cập trong mục 4.1, xây dựng các hàm phục vụ cho việc chuyển dữ liệu từ input_grid sang màn hình của Turtle</p>"
   ]
  },
  {
   "cell_type": "code",
   "execution_count": 7,
   "metadata": {
    "ExecuteTime": {
     "end_time": "2023-12-13T02:56:23.146870Z",
     "start_time": "2023-12-13T02:56:23.004615800Z"
    }
   },
   "outputs": [],
   "source": [
    "# Hàm cập nhật kích thước màn hình Turtle phù hợp với kích thước mê cung\n",
    "def update_window_size(grid):\n",
    "    base_cell_size = 24\n",
    "    num_rows = len(grid)\n",
    "    num_cols = len(grid[0])\n",
    "\n",
    "    window_width = num_cols * base_cell_size\n",
    "    window_height = num_rows * base_cell_size\n",
    "\n",
    "    wn.setup(width=window_width + 50, height=window_height + 50)\n",
    "\n",
    "# Hàm tạo dựng mê cung\n",
    "def setup_maze(grid):\n",
    "    update_window_size(input_grid)\n",
    "    maze_width = len(grid[0]) * 24\n",
    "    maze_height = len(grid) * 24\n",
    "\n",
    "    screen_x_start = -maze_width / 2\n",
    "    screen_y_start = maze_height / 2\n",
    "\n",
    "    for y in range(len(grid)):\n",
    "        for x in range(len(grid[y])):\n",
    "            character = grid[y][x]\n",
    "\n",
    "            screen_x = (x * 24) + screen_x_start\n",
    "            screen_y = screen_y_start - (y * 24)\n",
    "\n",
    "            maze.goto(screen_x, screen_y)\n",
    "\n",
    "            if character == \"+\":  # Wall\n",
    "                maze.stamp()\n",
    "                walls.append((screen_x, screen_y))\n",
    "\n",
    "            elif character == \" \" or character == \"e\":\n",
    "                path.append((screen_x, screen_y))\n",
    "\n",
    "            if character == \"e\":  # End point\n",
    "                green.color(\"purple\")\n",
    "                green.goto(screen_x, screen_y)\n",
    "                green.stamp()\n",
    "                green.color(\"green\")\n",
    "                global end_x, end_y\n",
    "                end_x, end_y = screen_x, screen_y\n",
    "\n",
    "            if character == \"s\":\n",
    "                global start_x, start_y\n",
    "                start_x, start_y = screen_x, screen_y\n",
    "                red.goto(screen_x, screen_y)\n",
    "                red.stamp()\n",
    "\n",
    "# Hàm truy vết lại đường đi kể từ vị trí kết thúc quay về vị trí bắt đầu\n",
    "def back_route(x, y):\n",
    "    yellow.goto(x, y)\n",
    "    yellow.stamp()\n",
    "    while (x, y) != (start_x, start_y):\n",
    "        yellow.goto(solution[x, y])\n",
    "        yellow.stamp()\n",
    "        x, y = solution[x, y]\n",
    "\n",
    "# Hàm kết thúc chương trình\n",
    "def end_program():\n",
    "    wn.exitonclick()\n",
    "    sys.exit()"
   ]
  },
  {
   "cell_type": "markdown",
   "metadata": {},
   "source": [
    "<h3>4.3. Cài đặt thuật toán</h3>\n",
    "<h3>4.3.1. BFS</h3>\n",
    "<p>Dùng hàng đợi (queue) frontier để chứa những vị trí tiếp theo cần duyệt và biến kiểu từ điển solution để lưu thông tin về các ô đã xét và đường đi tới đó</p>\n",
    "<p>Xuất phát từ vị trí bắt đầu (start_x, start_y), thêm vào frontier. Sau đó duyệt 4 ô lân cận và thêm chúng vào frontier nếu chúng chưa được thăm hoặc không phải là tường</p>\n",
    "<p>Tại mỗi bước, kiểm tra xem vị trí kết thúc (end_x, end_y) đã được thăm hay chưa. Nếu đã thăm, chương trình đã tìm được đường đi và trả về hình ảnh đường đi thông qua hàm back_route(), nếu chưa thăm, tiếp tục thực hiện thuật toán.</p>"
   ]
  },
  {
   "cell_type": "code",
   "execution_count": 8,
   "metadata": {
    "ExecuteTime": {
     "end_time": "2023-12-13T02:56:23.158873600Z",
     "start_time": "2023-12-13T02:56:23.023751300Z"
    }
   },
   "outputs": [],
   "source": [
    "def bfs(x, y):\n",
    "    frontier.append((x, y))\n",
    "    solution[x, y] = x, y\n",
    "\n",
    "    while len(frontier) > 0:  # exit while loop when frontier queue equals zero\n",
    "        time.sleep(0.1)\n",
    "        x, y = frontier.popleft()  # pop next entry in the frontier queue an assign to x and y location\n",
    "\n",
    "        if (end_x, end_y) in visited:\n",
    "            break\n",
    "        if (x - 24, y) in path and (x - 24, y) not in visited:  # check the cell on the left\n",
    "            cell = (x - 24, y)\n",
    "            solution[cell] = x, y  # backtracking routine [cell] is the previous cell. x, y is the current cell\n",
    "            blue.goto(cell)  # identify frontier cells\n",
    "            blue.stamp()\n",
    "            frontier.append(cell)  # add cell to frontier list\n",
    "            visited.add((x - 24, y))  # add cell to visited list\n",
    "\n",
    "        if (x, y - 24) in path and (x, y - 24) not in visited:  # check the cell down\n",
    "            cell = (x, y - 24)\n",
    "            solution[cell] = x, y\n",
    "            blue.goto(cell)\n",
    "            blue.stamp()\n",
    "            frontier.append(cell)\n",
    "            visited.add((x, y - 24))\n",
    "            # print(solution)\n",
    "\n",
    "        if (x + 24, y) in path and (x + 24, y) not in visited:  # check the cell on the  right\n",
    "            cell = (x + 24, y)\n",
    "            solution[cell] = x, y\n",
    "            blue.goto(cell)\n",
    "            blue.stamp()\n",
    "            frontier.append(cell)\n",
    "            visited.add((x + 24, y))\n",
    "\n",
    "        if (x, y + 24) in path and (x, y + 24) not in visited:  # check the cell up\n",
    "            cell = (x, y + 24)\n",
    "            solution[cell] = x, y\n",
    "            blue.goto(cell)\n",
    "            blue.stamp()\n",
    "            frontier.append(cell)\n",
    "            visited.add((x, y + 24))\n",
    "        green.goto(x, y)\n",
    "        green.stamp()\n",
    "    if (end_x, end_y) not in visited:\n",
    "        unreachable = [[sg.Text('No path can be found')]]\n",
    "        window2 = sg.Window('Warning', unreachable)\n",
    "        while True:\n",
    "            event2, values2 = window2.read()\n",
    "            if event2 == sg.WINDOW_CLOSED:\n",
    "                break\n",
    "            window2.close()"
   ]
  },
  {
   "cell_type": "markdown",
   "metadata": {},
   "source": [
    "<h3>4.3.2. DFS</h3>\n",
    "<p>Tương tự thuật toán BFS, nhưng frontier là một ngăn xếp (stack)</p>"
   ]
  },
  {
   "cell_type": "code",
   "execution_count": 9,
   "metadata": {
    "ExecuteTime": {
     "end_time": "2023-12-13T02:56:23.161874400Z",
     "start_time": "2023-12-13T02:56:23.034621900Z"
    }
   },
   "outputs": [],
   "source": [
    "def dfs(x, y):\n",
    "    frontier.append((x, y))\n",
    "    solution[x, y] = x, y\n",
    "\n",
    "    while len(frontier) > 0:\n",
    "        time.sleep(0.1)\n",
    "        x, y = frontier.pop()\n",
    "\n",
    "        if (end_x, end_y) in visited:\n",
    "            break\n",
    "        if (x - 24, y) in path and (x - 24, y) not in visited:\n",
    "            cell = (x - 24, y)\n",
    "            solution[cell] = x, y\n",
    "            blue.goto(cell)\n",
    "            blue.stamp()\n",
    "            frontier.append(cell)\n",
    "            visited.add((x - 24, y))\n",
    "\n",
    "        if (x, y - 24) in path and (x, y - 24) not in visited:\n",
    "            cell = (x, y - 24)\n",
    "            solution[cell] = x, y\n",
    "            blue.goto(cell)\n",
    "            blue.stamp()\n",
    "            frontier.append(cell)\n",
    "            visited.add((x, y - 24))\n",
    "            # print(solution)\n",
    "\n",
    "        if (x + 24, y) in path and (x + 24, y) not in visited:\n",
    "            cell = (x + 24, y)\n",
    "            solution[cell] = x, y\n",
    "            blue.goto(cell)\n",
    "            blue.stamp()\n",
    "            frontier.append(cell)\n",
    "            visited.add((x + 24, y))\n",
    "\n",
    "        if (x, y + 24) in path and (x, y + 24) not in visited:\n",
    "            cell = (x, y + 24)\n",
    "            solution[cell] = x, y\n",
    "            blue.goto(cell)\n",
    "            blue.stamp()\n",
    "            frontier.append(cell)\n",
    "            visited.add((x, y + 24))\n",
    "        green.goto(x, y)\n",
    "        green.stamp()\n",
    "    if (end_x, end_y) not in visited:\n",
    "        unreachable = [[sg.Text('No path can be found')]]\n",
    "        window2 = sg.Window('Warning', unreachable)\n",
    "        while True:\n",
    "            event2, values2 = window2.read()\n",
    "            if event2 == sg.WINDOW_CLOSED:\n",
    "                break\n",
    "            window2.close()"
   ]
  },
  {
   "cell_type": "markdown",
   "metadata": {},
   "source": [
    "<h3>4.3.3. A*</h3>\n",
    "<p>Hàm đánh giá: f(n) = g(n) + h(n). Trong đó:\n",
    "    <li>n là một nút có toạ độ (x,y) trên mê cung</li>\n",
    "    <li>g(n) = độ dài đường đi từ vị trí bắt đầu đến nút hiện tại (tính theo ô) * 24 (kích thước 1 ô): Chi phí từ nút gốc đến nút hiện tại</li>\n",
    "    <li>h(n): bình phương khoảng cách theo đường chim bay từ điểm đang xét đến vị trí kết thúc (khoảng cách Euclide)</li>\n",
    "</p>"
   ]
  },
  {
   "cell_type": "code",
   "execution_count": 10,
   "metadata": {
    "ExecuteTime": {
     "end_time": "2023-12-13T02:56:23.281900300Z",
     "start_time": "2023-12-13T02:56:23.045808400Z"
    }
   },
   "outputs": [],
   "source": [
    "def heuristic(x, y):\n",
    "    return abs(x - end_x) * abs(x - end_x) + abs(y - end_y) * abs(y - end_y)"
   ]
  },
  {
   "cell_type": "markdown",
   "metadata": {},
   "source": [
    "<p>Thuật toán sử dụng hàng đợi ưu tiên (priority queue) open_set để sắp xếp theo thứ tự tăng dần hàm f(n) đối với các nút lân cận chưa được xét, tập hợp closed_set để chứa các nút đã xét.</p>\n",
    "<p>Xuất phát từ vị trí bắt đầu (start_x, start_y), thêm vào open_set, tính các giá trị hàm g(n), h(n), f(n) cho các nút lân cận. Chọn nút có giá trị hàm f(n) bé nhất để xét, cập nhật closed_set, open_set với các nút lân cận mới và các giá trị hàm đánh giá tương ứng.</p>\n",
    "<p>Thực hiện thuật toán đến khi (end_x, end_y) xuất hiện trong closed_set hoặc đã xét hết các nút có thể mà không tìm được đường đi.</p>"
   ]
  },
  {
   "cell_type": "code",
   "execution_count": 11,
   "metadata": {
    "ExecuteTime": {
     "end_time": "2023-12-13T02:56:23.283900300Z",
     "start_time": "2023-12-13T02:56:23.064139700Z"
    }
   },
   "outputs": [],
   "source": [
    "def aStar(x, y):\n",
    "    open_set = set()\n",
    "    closed_set = set()\n",
    "    came_from = {}\n",
    "\n",
    "    g_score = {(x, y): 0}\n",
    "    h_score = {(x, y): heuristic(x, y)}\n",
    "    f_score = {(x, y): h_score[(x, y)]}\n",
    "\n",
    "    solution[x, y] = x, y\n",
    "    open_set.add((x, y))\n",
    "\n",
    "    while open_set:\n",
    "        time.sleep(0.1)\n",
    "        (a, b) = min(open_set, key=lambda node: f_score[node])\n",
    "\n",
    "        if (a, b) == (end_x, end_y):\n",
    "            break\n",
    "\n",
    "        open_set.remove((a, b))\n",
    "        closed_set.add((a, b))\n",
    "\n",
    "        for (next_x, next_y) in [(a + 24, b), (a - 24, b), (a, b + 24), (a, b - 24)]:\n",
    "            if (next_x, next_y) in path:\n",
    "                if (next_x, next_y) in closed_set:\n",
    "                    continue\n",
    "\n",
    "                tentative_g_score = g_score[(a, b)] + 24\n",
    "\n",
    "                if (next_x, next_y) not in open_set or tentative_g_score < g_score[(next_x, next_y)]:\n",
    "                    came_from[(next_x, next_y)] = (a, b)\n",
    "                    g_score[(next_x, next_y)] = tentative_g_score\n",
    "                    h_score[(next_x, next_y)] = heuristic(next_x, next_y)\n",
    "                    f_score[(next_x, next_y)] = g_score[(next_x, next_y)] + h_score[(next_x, next_y)]\n",
    "\n",
    "                    solution[(next_x, next_y)] = a, b\n",
    "\n",
    "                    if (next_x, next_y) not in open_set:\n",
    "                        open_set.add((next_x, next_y))\n",
    "                    blue.goto((next_x, next_y))\n",
    "                    blue.stamp()\n",
    "\n",
    "        green.goto(a, b)\n",
    "        green.stamp()\n",
    "\n",
    "    if (end_x, end_y) not in solution:\n",
    "        unreachable = [[sg.Text('No path can be found')]]\n",
    "        window2 = sg.Window('Warning', unreachable)\n",
    "        while True:\n",
    "            event2, values2 = window2.read()\n",
    "            if event2 == sg.WINDOW_CLOSED:\n",
    "                break\n",
    "        window2.close()"
   ]
  },
  {
   "cell_type": "markdown",
   "metadata": {
    "id": "jhbRD63lzoXo"
   },
   "source": [
    "<h3>4.4. Khởi động chương trình</h3>\n",
    "<p>Khởi tạo các đối tượng trong Turtle Graphic:</p>\n"
   ]
  },
  {
   "cell_type": "code",
   "execution_count": 12,
   "metadata": {
    "ExecuteTime": {
     "end_time": "2023-12-13T02:56:23.479296900Z",
     "start_time": "2023-12-13T02:56:23.075855100Z"
    }
   },
   "outputs": [],
   "source": [
    "maze = Maze()\n",
    "red = Red()\n",
    "blue = Blue()\n",
    "green = Green()\n",
    "yellow = Yellow()\n",
    "black = Black()"
   ]
  },
  {
   "cell_type": "markdown",
   "metadata": {},
   "source": [
    "<p>Khởi tạo các cấu trúc dữ liệu cần thiết cho việc thực hiện thuật toán:</p>"
   ]
  },
  {
   "cell_type": "code",
   "execution_count": 13,
   "metadata": {
    "ExecuteTime": {
     "end_time": "2023-12-13T02:56:23.481296800Z",
     "start_time": "2023-12-13T02:56:23.414900900Z"
    }
   },
   "outputs": [],
   "source": [
    "walls = []\n",
    "path = []\n",
    "visited = set()\n",
    "frontier = deque()\n",
    "solution = {}"
   ]
  },
  {
   "cell_type": "markdown",
   "metadata": {},
   "source": [
    "<p>Chương trình chính gọi các hàm đã xây dựng ở trên:</p>"
   ]
  },
  {
   "cell_type": "code",
   "execution_count": null,
   "metadata": {
    "is_executing": true,
    "ExecuteTime": {
     "start_time": "2023-12-13T02:56:23.424283500Z"
    }
   },
   "outputs": [],
   "source": [
    "method_setup()\n",
    "setup_maze(input_grid)\n",
    "select_algorithm()\n",
    "back_route(end_x, end_y)\n",
    "end_program()"
   ]
  },
  {
   "cell_type": "markdown",
   "metadata": {},
   "source": [
    "<h3>5. Kết quả thực hiện và định hướng phát triển</h3>\n",
    "<p>Kết quả thực hiện: Chương trình đáp ứng tương đối đầy đủ các yêu cầu đã đề ra\n",
    "    <li>Giải quyết được bài toán tìm đường đi trong mê cung, biểu diễn lời giải dưới dạng trực quan, dễ tương tác với người dùng.</li>\n",
    "    <li>Áp dụng được các thuật toán tìm kiếm cơ bản, tìm kiếm với tri thức bổ sung, qua đó củng cố thêm kiến thức của học phần</li>\n",
    "</p>\n",
    "<p>Hạn chế và hướng phát triển:\n",
    "    <li>Chương trình còn áp dụng ít thuật toán, có thể bổ sung để trở thành một ứng dụng minh hoạ cho các thuật toán đã học trong học phần</li>\n",
    "    <li>Việc thiết kế giao diện setup mê cung là một ma trận vuông các nút gây tốn kém về mặt thời gian, khó quản lí, dẫn đến chương trình thực hiện chậm với kích thước mê cung lớn, cần có một giải pháp thay thế cho cách làm hiện tại</li>\n",
    "</p>"
   ]
  },
  {
   "cell_type": "markdown",
   "metadata": {},
   "source": [
    "<h3>6. Các thông tin liên quan</h3>\n",
    "<h3>6.1. Phân công công việc trong nhóm</h3>\n",
    "    <li>Cài đặt thuật toán: Hoàng Kỳ Anh</li>\n",
    "    <li>Thiết kế và xây dựng giao diện: Nguyễn Hữu Đức, Trần Tiến Đức</li>\n",
    "    <li>Hoàn thành báo cáo tiến độ và báo cáo cuối kì: Nguyễn Hữu Đức, Nguyễn Đức Thái An</li>\n",
    "<h3>6.2. Tài liệu tham khảo</h3>\n",
    "    <p>BFS-Maze-Solver, by tonypdavis</p>\n",
    "    <p>Github: https://github.com/tonypdavis/BFS-Maze-Solver</p>\n"
   ]
  }
 ],
 "metadata": {
  "colab": {
   "provenance": []
  },
  "kernelspec": {
   "name": "python3",
   "language": "python",
   "display_name": "Python 3 (ipykernel)"
  },
  "language_info": {
   "name": "python"
  }
 },
 "nbformat": 4,
 "nbformat_minor": 0
}
